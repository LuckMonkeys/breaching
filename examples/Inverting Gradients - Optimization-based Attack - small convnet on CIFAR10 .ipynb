{
 "cells": [
  {
   "cell_type": "markdown",
   "id": "3ebef44a",
   "metadata": {},
   "source": [
    "# Inverting Gradients - How easy is it to break privacy in federated learning?"
   ]
  },
  {
   "cell_type": "markdown",
   "id": "a756fc5f",
   "metadata": {},
   "source": [
    "This notebook shows an example for a **single image gradient inversion** as described in \"Inverting Gradients - How easy is it to break privacy in federated learning?\". The setting is a pretrained ResNet-18 and the federated learning algorithm is **fedSGD**.\n",
    "\n",
    "Paper URL: https://proceedings.neurips.cc/paper/2020/hash/c4ede56bbd98819ae6112b20ac6bf145-Abstract.html"
   ]
  },
  {
   "cell_type": "markdown",
   "id": "4107d723",
   "metadata": {},
   "source": [
    "#### Abstract\n",
    "The idea of federated learning is to collaboratively train a neural network on a server. Each user receives the current weights of the network and in turns sends parameter updates (gradients) based on local data. This protocol has been designed not only to train neural networks data-efficiently, but also to provide privacy benefits for users, as their input data remains on device and only parameter gradients are shared. But how secure is sharing parameter gradients? Previous attacks have provided a false sense of security, by succeeding only in contrived settings - even for a single image. However, by exploiting a magnitude-invariant loss along with optimization strategies based on adversarial attacks, we show that is is actually possible to faithfully reconstruct images at high resolution from the knowledge of their parameter gradients, and demonstrate that such a break of privacy is possible even for trained deep networks. We analyze the effects of architecture as well as parameters on the difficulty of reconstructing an input image and prove that any input to a fully connected layer can be reconstructed analytically independent of the remaining architecture. Finally we discuss settings encountered in practice and show that even averaging gradients over several iterations or several images does not protect the user's privacy in federated learning applications."
   ]
  },
  {
   "cell_type": "markdown",
   "id": "90dcd6cb",
   "metadata": {},
   "source": [
    "### Startup"
   ]
  },
  {
   "cell_type": "code",
   "execution_count": 1,
   "id": "b850eabf",
   "metadata": {},
   "outputs": [
    {
     "name": "stderr",
     "output_type": "stream",
     "text": [
      "/home/zx/miniconda3/envs/torch1.12/lib/python3.10/site-packages/tqdm/auto.py:22: TqdmWarning: IProgress not found. Please update jupyter and ipywidgets. See https://ipywidgets.readthedocs.io/en/stable/user_install.html\n",
      "  from .autonotebook import tqdm as notebook_tqdm\n"
     ]
    }
   ],
   "source": [
    "try:\n",
    "    import breaching\n",
    "except ModuleNotFoundError:\n",
    "    # You only really need this safety net if you want to run these notebooks directly in the examples directory\n",
    "    # Don't worry about this if you installed the package or moved the notebook to the main directory.\n",
    "    import os; os.chdir(\"..\")\n",
    "    import breaching\n",
    "    \n",
    "import torch\n",
    "%load_ext autoreload\n",
    "%autoreload 2\n",
    "\n",
    "# Redirects logs directly into the jupyter notebook\n",
    "import logging, sys\n",
    "logging.basicConfig(level=logging.INFO, handlers=[logging.StreamHandler(sys.stdout)], format='%(message)s')\n",
    "logger = logging.getLogger()"
   ]
  },
  {
   "cell_type": "markdown",
   "id": "88d5e214",
   "metadata": {},
   "source": [
    "### Initialize cfg object and system setup:"
   ]
  },
  {
   "cell_type": "markdown",
   "id": "56bd663b",
   "metadata": {},
   "source": [
    "This will load the full configuration object. This includes the configuration for the use case and threat model as `cfg.case` and the hyperparameters and implementation of the attack as `cfg.attack`. All parameters can be modified below, or overriden with `overrides=` as if they were cmd-line arguments."
   ]
  },
  {
   "cell_type": "code",
   "execution_count": 2,
   "id": "a7dc3a48",
   "metadata": {},
   "outputs": [
    {
     "name": "stdout",
     "output_type": "stream",
     "text": [
      "Investigating use case single_image_small with server type honest_but_curious.\n"
     ]
    },
    {
     "data": {
      "text/plain": [
       "{'device': device(type='cuda', index=7), 'dtype': torch.float32}"
      ]
     },
     "execution_count": 2,
     "metadata": {},
     "output_type": "execute_result"
    }
   ],
   "source": [
    "cfg = breaching.get_config(overrides=[\"case=1_single_image_small\", \"case.model=cnn6\"])\n",
    "          \n",
    "device = torch.device(f'cuda:7') if torch.cuda.is_available() else torch.device('cpu')\n",
    "torch.backends.cudnn.benchmark = cfg.case.impl.benchmark\n",
    "setup = dict(device=device, dtype=getattr(torch, cfg.case.impl.dtype))\n",
    "setup"
   ]
  },
  {
   "cell_type": "markdown",
   "id": "203c5fb1",
   "metadata": {},
   "source": [
    "### Modify config options here"
   ]
  },
  {
   "cell_type": "markdown",
   "id": "6e0764ef",
   "metadata": {},
   "source": [
    "You can use `.attribute` access to modify any of these configurations for the attack, or the case:"
   ]
  },
  {
   "cell_type": "code",
   "execution_count": 3,
   "id": "ac118ea0",
   "metadata": {},
   "outputs": [],
   "source": [
    "# cfg.case.data.partition=\"unique-class\"\n",
    "# cfg.case.user.user_idx = 24\n",
    "# cfg.case.model='resnet18'\n",
    "# cfg.case.server.pretrained = False\n",
    "# cfg.case.data.examples_from_split='train'\n",
    "\n",
    "# cfg.case.data.partition=\"unique-class\"\n",
    "cfg.case.user.user_idx = 1 \n",
    "# cfg.case.model='resnet18'\n",
    "# cfg.case.server.pretrained = False\n",
    "# cfg.case.data.examples_from_split='train'"
   ]
  },
  {
   "cell_type": "markdown",
   "id": "76f64389",
   "metadata": {},
   "source": [
    "### Instantiate all parties"
   ]
  },
  {
   "cell_type": "markdown",
   "id": "8db2272f",
   "metadata": {},
   "source": [
    "The following lines generate \"server, \"user\" and \"attacker\" objects and print an overview of their configurations."
   ]
  },
  {
   "cell_type": "code",
   "execution_count": 4,
   "id": "d3abd955",
   "metadata": {},
   "outputs": [
    {
     "name": "stdout",
     "output_type": "stream",
     "text": [
      "<class 'torch.jit._script.RecursiveScriptModule'>\n",
      "Files already downloaded and verified\n",
      "Model architecture cnn6 loaded with 154,266 parameters and 0 buffers.\n",
      "Overall this is a data ratio of      50:1 for target shape [1, 3, 32, 32] given that num_queries=1.\n",
      "User (of type UserSingleStep) with settings:\n",
      "    Number of data points: 1\n",
      "\n",
      "    Threat model:\n",
      "    User provides labels: True\n",
      "    User provides buffers: False\n",
      "    User provides number of data points: True\n",
      "\n",
      "    Data:\n",
      "    Dataset: CIFAR10\n",
      "    user: 1\n",
      "    \n",
      "        \n",
      "Server (of type HonestServer) with settings:\n",
      "    Threat model: Honest-but-curious\n",
      "    Number of planned queries: 1\n",
      "    Has external/public data: False\n",
      "\n",
      "    Model:\n",
      "        model specification: cnn6\n",
      "        model state: default\n",
      "        \n",
      "\n",
      "    Secrets: {}\n",
      "    \n",
      "Attacker (of type OptimizationBasedAttacker) with settings:\n",
      "    Hyperparameter Template: invertinggradients\n",
      "\n",
      "    Objective: Cosine Similarity with scale=1.0 and task reg=0.0\n",
      "    Regularizers: Total Variation, scale=0.2. p=1 q=1. \n",
      "    Augmentations: \n",
      "\n",
      "    Optimization Setup:\n",
      "        optimizer: adam\n",
      "        signed: hard\n",
      "        step_size: 0.1\n",
      "        boxed: True\n",
      "        max_iterations: 24000\n",
      "        step_size_decay: step-lr\n",
      "        langevin_noise: 0.0\n",
      "        warmup: 0\n",
      "        grad_clip: None\n",
      "        callback: 1000\n",
      "        \n",
      "VisionContainer(\n",
      "  (model): ConvolutionalNetwork(\n",
      "    (conv): Sequential(\n",
      "      (layer0): Conv2d(3, 12, kernel_size=(4, 4), stride=(2, 2), padding=(2, 2), bias=False)\n",
      "      (act0): LeakyReLU(negative_slope=0.2)\n",
      "      (layer1): Conv2d(12, 36, kernel_size=(3, 3), stride=(2, 2), padding=(1, 1), bias=False)\n",
      "      (act1): LeakyReLU(negative_slope=0.2)\n",
      "      (layer2): Conv2d(36, 36, kernel_size=(3, 3), stride=(1, 1), padding=(1, 1), bias=False)\n",
      "      (act2): LeakyReLU(negative_slope=0.2)\n",
      "      (layer3): Conv2d(36, 36, kernel_size=(3, 3), stride=(1, 1), padding=(1, 1), bias=False)\n",
      "      (act3): LeakyReLU(negative_slope=0.2)\n",
      "      (layer4): Conv2d(36, 64, kernel_size=(3, 3), stride=(2, 2), padding=(1, 1), bias=False)\n",
      "      (act4): LeakyReLU(negative_slope=0.2)\n",
      "      (layer5): Conv2d(64, 128, kernel_size=(3, 3), stride=(1, 1), padding=(1, 1), bias=False)\n",
      "      (flatten): Flatten(start_dim=1, end_dim=-1)\n",
      "      (act5): LeakyReLU(negative_slope=0.2)\n",
      "    )\n",
      "    (fc): Linear(in_features=3200, out_features=10, bias=True)\n",
      "  )\n",
      ")\n"
     ]
    }
   ],
   "source": [
    "user, server, model, loss_fn = breaching.cases.construct_case(cfg.case, setup)\n",
    "attacker = breaching.attacks.prepare_attack(server.model, server.loss, cfg.attack, setup)\n",
    "breaching.utils.overview(server, user, attacker)\n",
    "print(model)"
   ]
  },
  {
   "cell_type": "code",
   "execution_count": 20,
   "id": "5c27e5ee",
   "metadata": {},
   "outputs": [
    {
     "name": "stdout",
     "output_type": "stream",
     "text": [
      "0.003318309783935547\n"
     ]
    }
   ],
   "source": [
    "import time\n",
    "device = torch.device('cuda:1')\n",
    "data = torch.randn((1,3,224, 224)).to(device)\n",
    "model_test = model.to(device)\n",
    "\n",
    "st = time.time()\n",
    "model_test(data)\n",
    "\n",
    "print(time.time() - st)"
   ]
  },
  {
   "cell_type": "markdown",
   "id": "548c0ad6",
   "metadata": {},
   "source": [
    "### Simulate an attacked FL protocol"
   ]
  },
  {
   "cell_type": "markdown",
   "id": "2058bcc2",
   "metadata": {},
   "source": [
    "This exchange is a simulation of a single query in a federated learning protocol. The server sends out a `server_payload` and the user computes an update based on their private local data. This user update is `shared_data` and contains, for example, the parameter gradient of the model in the simplest case. `true_user_data` is also returned by `.compute_local_updates`, but of course not forwarded to the server or attacker and only used for (our) analysis."
   ]
  },
  {
   "cell_type": "code",
   "execution_count": 5,
   "id": "b0dbd868",
   "metadata": {},
   "outputs": [
    {
     "name": "stdout",
     "output_type": "stream",
     "text": [
      "Computing user update on user 1 in model mode: eval.\n"
     ]
    }
   ],
   "source": [
    "server_payload = server.distribute_payload()\n",
    "shared_data, true_user_data = user.compute_local_updates(server_payload)"
   ]
  },
  {
   "cell_type": "code",
   "execution_count": 6,
   "id": "49c68628",
   "metadata": {},
   "outputs": [
    {
     "data": {
      "image/png": "[encoded data removed]",
      "text/plain": [
       "<Figure size 432x288 with 1 Axes>"
      ]
     },
     "metadata": {
      "needs_background": "light"
     },
     "output_type": "display_data"
    }
   ],
   "source": [
    "user.plot(true_user_data)"
   ]
  },
  {
   "cell_type": "markdown",
   "id": "17255c5a",
   "metadata": {},
   "source": [
    "### Reconstruct user data:"
   ]
  },
  {
   "cell_type": "markdown",
   "id": "82360c14",
   "metadata": {},
   "source": [
    "Now we launch the attack, reconstructing user data based on only the `server_payload` and the `shared_data`. \n",
    "\n",
    "You can interrupt the computation early to see a partial solution."
   ]
  },
  {
   "cell_type": "code",
   "execution_count": 9,
   "id": "c9a32fd7",
   "metadata": {},
   "outputs": [
    {
     "name": "stdout",
     "output_type": "stream",
     "text": [
      "| It: 1 | Rec. loss: 0.4670 |  Task loss: 2.3063 | T: 0.02s T closure_prefix 4.291534423828125e-05 | T update 0.01512002944946289 | T project 0.0004374980926513672\n",
      "| It: 1001 | Rec. loss: 0.0280 |  Task loss: 2.3064 | T: 9.69s T closure_prefix 9.676687955856323 | T update 0.009377717971801758 | T project 9.67695665359497\n",
      "| It: 2001 | Rec. loss: 0.0282 |  Task loss: 2.3062 | T: 9.99s T closure_prefix 9.980123281478882 | T update 0.009015083312988281 | T project 9.980406284332275\n",
      "| It: 3001 | Rec. loss: 0.0276 |  Task loss: 2.3062 | T: 9.54s T closure_prefix 9.5312340259552 | T update 0.009582996368408203 | T project 9.531628131866455\n",
      "| It: 4001 | Rec. loss: 0.0277 |  Task loss: 2.3062 | T: 9.54s T closure_prefix 9.532267332077026 | T update 0.008905410766601562 | T project 9.532527685165405\n",
      "| It: 5001 | Rec. loss: 0.0279 |  Task loss: 2.3064 | T: 9.27s T closure_prefix 9.257061243057251 | T update 0.010252237319946289 | T project 9.257468223571777\n",
      "| It: 6001 | Rec. loss: 0.0277 |  Task loss: 2.3061 | T: 9.80s T closure_prefix 9.787911653518677 | T update 0.009469985961914062 | T project 9.788192510604858\n",
      "| It: 7001 | Rec. loss: 0.0278 |  Task loss: 2.3062 | T: 9.28s T closure_prefix 9.274739742279053 | T update 0.007272481918334961 | T project 9.27495265007019\n",
      "| It: 8001 | Rec. loss: 0.0283 |  Task loss: 2.3062 | T: 8.75s T closure_prefix 8.739426374435425 | T update 0.008860111236572266 | T project 8.739678859710693\n",
      "| It: 9001 | Rec. loss: 0.0276 |  Task loss: 2.3061 | T: 8.86s T closure_prefix 8.848719120025635 | T update 0.008040666580200195 | T project 8.848884344100952\n",
      "| It: 10001 | Rec. loss: 0.0190 |  Task loss: 2.3062 | T: 9.75s T closure_prefix 9.744077444076538 | T update 0.009329080581665039 | T project 9.744335412979126\n",
      "| It: 11001 | Rec. loss: 0.0190 |  Task loss: 2.3063 | T: 9.88s T closure_prefix 9.86980676651001 | T update 0.0096893310546875 | T project 9.870073318481445\n",
      "| It: 12001 | Rec. loss: 0.0190 |  Task loss: 2.3063 | T: 10.11s T closure_prefix 10.100850105285645 | T update 0.009331703186035156 | T project 10.101115465164185\n",
      "| It: 13001 | Rec. loss: 0.0191 |  Task loss: 2.3063 | T: 10.04s T closure_prefix 10.028586387634277 | T update 0.009428262710571289 | T project 10.028856754302979\n",
      "| It: 14001 | Rec. loss: 0.0193 |  Task loss: 2.3063 | T: 9.96s T closure_prefix 9.95095419883728 | T update 0.009116888046264648 | T project 9.951227188110352\n",
      "| It: 15001 | Rec. loss: 0.0191 |  Task loss: 2.3063 | T: 9.87s T closure_prefix 9.863839626312256 | T update 0.009626388549804688 | T project 9.864218950271606\n",
      "| It: 16001 | Rec. loss: 0.0184 |  Task loss: 2.3063 | T: 9.91s T closure_prefix 9.901267528533936 | T update 0.00941324234008789 | T project 9.901530265808105\n",
      "| It: 17001 | Rec. loss: 0.0183 |  Task loss: 2.3063 | T: 9.68s T closure_prefix 9.675700187683105 | T update 0.008911848068237305 | T project 9.675954580307007\n",
      "| It: 18001 | Rec. loss: 0.0183 |  Task loss: 2.3063 | T: 9.07s T closure_prefix 9.063030481338501 | T update 0.009899139404296875 | T project 9.063315153121948\n",
      "| It: 19001 | Rec. loss: 0.0182 |  Task loss: 2.3063 | T: 9.63s T closure_prefix 9.621891975402832 | T update 0.00939035415649414 | T project 9.622162818908691\n",
      "| It: 20001 | Rec. loss: 0.0183 |  Task loss: 2.3063 | T: 9.74s T closure_prefix 9.727338552474976 | T update 0.012971162796020508 | T project 9.727673053741455\n",
      "| It: 21001 | Rec. loss: 0.0183 |  Task loss: 2.3063 | T: 10.00s T closure_prefix 9.989981889724731 | T update 0.008935689926147461 | T project 9.990244150161743\n",
      "| It: 22001 | Rec. loss: 0.0182 |  Task loss: 2.3063 | T: 9.96s T closure_prefix 9.951838970184326 | T update 0.009212017059326172 | T project 9.952103853225708\n",
      "| It: 23001 | Rec. loss: 0.0182 |  Task loss: 2.3063 | T: 9.94s T closure_prefix 9.930306196212769 | T update 0.009006023406982422 | T project 9.930567264556885\n",
      "| It: 24000 | Rec. loss: 0.0182 |  Task loss: 2.3063 | T: 9.86s T closure_prefix 9.848788738250732 | T update 0.008986949920654297 | T project 9.849050998687744\n",
      "Optimal candidate solution with rec. loss 0.0047 selected.\n"
     ]
    }
   ],
   "source": [
    "reconstructed_user_data, stats = attacker.reconstruct([server_payload], [shared_data], {}, dryrun=cfg.dryrun)"
   ]
  },
  {
   "cell_type": "markdown",
   "id": "9dc4943f",
   "metadata": {},
   "source": [
    "Next we'll evaluate metrics, comparing the `reconstructed_user_data` to the `true_user_data`."
   ]
  },
  {
   "cell_type": "code",
   "execution_count": 8,
   "id": "31f2685a",
   "metadata": {},
   "outputs": [
    {
     "name": "stdout",
     "output_type": "stream",
     "text": [
      "METRICS: | MSE: 0.0379 | PSNR: 14.21 | FMSE: 5.6980e-03 | LPIPS: 0.42|\n",
      " R-PSNR: 14.25 | IIP-pixel: 0.00% | SSIM: 0.3960 | max R-PSNR: 14.25 | max SSIM: 0.3960 | Label Acc: 100.00%\n"
     ]
    }
   ],
   "source": [
    "metrics = breaching.analysis.report(reconstructed_user_data, true_user_data, [server_payload], \n",
    "                                    server.model, order_batch=True, compute_full_iip=False, \n",
    "                                    cfg_case=cfg.case, setup=setup)"
   ]
  },
  {
   "cell_type": "markdown",
   "id": "a200797e",
   "metadata": {},
   "source": [
    "And finally, we also plot the reconstructed data:"
   ]
  },
  {
   "cell_type": "code",
   "execution_count": 10,
   "id": "631f4a84",
   "metadata": {},
   "outputs": [
    {
     "data": {
      "image/png": "[encoded data removed]",
      "text/plain": [
       "<Figure size 432x288 with 1 Axes>"
      ]
     },
     "metadata": {
      "needs_background": "light"
     },
     "output_type": "display_data"
    }
   ],
   "source": [
    "user.plot(reconstructed_user_data)"
   ]
  },
  {
   "cell_type": "markdown",
   "id": "0dcb085f",
   "metadata": {},
   "source": [
    "### Notes:\n",
    "* The learning rate schedule for this attack is chosen with no regards for efficiency, for many use cases the learning rate can be increased and the number of steps decreased to speed up computations somewhat.\n",
    "* The original paper included multiple trials of the attack (which can be enabled via `attack.restarts.num_trials=8`, but the attack already takes long enough for the ImageNet-sized example shown here.\n",
    "* The model shown here is also a ResNet-18, which is noticeably smaller than the ResNet-152 used in e.g. Fig.3 of the Inverting Gradients paper (which can be loaded with `case.model=resnet152`).\n",
    "* The original paper considered labels to be known. Here, we replace this explicit assumption by a modern label recovery algorithm (a variation of https://arxiv.org/abs/2105.09369)\n",
    "* In this use case, there are no batch norm buffers shared by the user with the server. The server sends out pretrained batch norm statistics to all users (from a public pretrained model), and the users compute their update in evaluation mode."
   ]
  }
 ],
 "metadata": {
  "kernelspec": {
   "display_name": "Python 3.10.4 ('torch1.12')",
   "language": "python",
   "name": "python3"
  },
  "language_info": {
   "codemirror_mode": {
    "name": "ipython",
    "version": 3
   },
   "file_extension": ".py",
   "mimetype": "text/x-python",
   "name": "python",
   "nbconvert_exporter": "python",
   "pygments_lexer": "ipython3",
   "version": "3.10.4"
  },
  "vscode": {
   "interpreter": {
    "hash": "bfeda313749c94f9a4724a9422c2a2712f7aeac49b4f3a78e28ace08a3f3d094"
   }
  }
 },
 "nbformat": 4,
 "nbformat_minor": 5
}
