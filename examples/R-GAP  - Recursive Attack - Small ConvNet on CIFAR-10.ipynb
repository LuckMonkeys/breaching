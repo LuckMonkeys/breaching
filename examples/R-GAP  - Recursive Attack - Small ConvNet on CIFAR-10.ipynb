{
 "cells": [
  {
   "cell_type": "markdown",
   "id": "3ebef44a",
   "metadata": {},
   "source": [
    "# R-GAP: Recursive Gradient Attack on Privacy"
   ]
  },
  {
   "cell_type": "markdown",
   "id": "a756fc5f",
   "metadata": {},
   "source": [
    "This notebook shows an example for a **single image gradient inversion** as described in \"R-GAP: Recursive Gradient Attack on Privacy\n",
    "\". The setting is a custom CNN from the paper for CIFAR-10 and the federated learning algorithm is **fedSGD**.\n",
    "\n",
    "Paper URL: https://openreview.net/forum?id=RSU17UoKfJF\n",
    "\n",
    "This is attack is probably the least modular, compared to other attacks implemented in this framework, the code will likely not work for any other model than the custom CNN. This is partly a code problem, partly a question of how R-GAP would be used with other activation functions aside from leaky ReLU. The code here is a port of the original implementation from https://github.com/JunyiZhu-AI/R-GAP"
   ]
  },
  {
   "cell_type": "markdown",
   "id": "4107d723",
   "metadata": {},
   "source": [
    "#### Abstract\n",
    "Federated learning frameworks have been regarded as a promising approach to break the dilemma between demands on privacy and the promise of learning from large collections of distributed data. Many such frameworks only ask collaborators to share their local update of a common model, i.e. gradients with respect to locally stored data, instead of exposing their raw data to other collaborators. However, recent optimization-based gradient attacks show that raw data can often be accurately recovered from gradients. It has been shown that minimizing the Euclidean distance between true gradients and those calculated from estimated data is often effective in fully recovering private data. However, there is a fundamental lack of theoretical understanding of how and when gradients can lead to unique recovery of original data. Our research fills this gap by providing a closed-form recursive procedure to recover data from gradients in deep neural networks. We name it Recursive Gradient Attack on Privacy (R-GAP). Experimental results demonstrate that R-GAP  works as well as or even better than optimization-based approaches at a fraction of the computation under certain conditions. Additionally, we propose a Rank Analysis method, which can be used to estimate the risk of gradient attacks inherent in certain network architectures, regardless of whether an optimization-based or closed-form-recursive attack is used. Experimental results demonstrate the utility of the rank analysis towards improving the network's security. Source code is available for download from https://github.com/JunyiZhu-AI/R-GAP."
   ]
  },
  {
   "cell_type": "markdown",
   "id": "90dcd6cb",
   "metadata": {},
   "source": [
    "### Startup"
   ]
  },
  {
   "cell_type": "code",
   "execution_count": 1,
   "id": "b850eabf",
   "metadata": {},
   "outputs": [
    {
     "name": "stderr",
     "output_type": "stream",
     "text": [
      "/home/zx/miniconda3/envs/torch1.12/lib/python3.10/site-packages/tqdm/auto.py:22: TqdmWarning: IProgress not found. Please update jupyter and ipywidgets. See https://ipywidgets.readthedocs.io/en/stable/user_install.html\n",
      "  from .autonotebook import tqdm as notebook_tqdm\n"
     ]
    }
   ],
   "source": [
    "try:\n",
    "    import breaching\n",
    "except ModuleNotFoundError:\n",
    "    # You only really need this safety net if you want to run these notebooks directly in the examples directory\n",
    "    # Don't worry about this if you installed the package or moved the notebook to the main directory.\n",
    "    import os; os.chdir(\"..\")\n",
    "    import breaching\n",
    "    \n",
    "import torch\n",
    "%load_ext autoreload\n",
    "%autoreload 2\n",
    "\n",
    "# Redirects logs directly into the jupyter notebook\n",
    "import logging, sys\n",
    "logging.basicConfig(level=logging.INFO, handlers=[logging.StreamHandler(sys.stdout)], format='%(message)s')\n",
    "logger = logging.getLogger()"
   ]
  },
  {
   "cell_type": "markdown",
   "id": "88d5e214",
   "metadata": {},
   "source": [
    "### Initialize cfg object and system setup:"
   ]
  },
  {
   "cell_type": "markdown",
   "id": "56bd663b",
   "metadata": {},
   "source": [
    "This will load the full configuration object. This includes the configuration for the use case and threat model as `cfg.case` and the hyperparameters and implementation of the attack as `cfg.attack`. All parameters can be modified below, or overriden with `overrides=` as if they were cmd-line arguments."
   ]
  },
  {
   "cell_type": "code",
   "execution_count": 2,
   "id": "a7dc3a48",
   "metadata": {},
   "outputs": [
    {
     "name": "stdout",
     "output_type": "stream",
     "text": [
      "Investigating use case single_image_small with server type honest_but_curious.\n"
     ]
    },
    {
     "data": {
      "text/plain": [
       "{'device': device(type='cpu'), 'dtype': torch.float32}"
      ]
     },
     "execution_count": 2,
     "metadata": {},
     "output_type": "execute_result"
    }
   ],
   "source": [
    "cfg = breaching.get_config(overrides=[\"attack=rgap\", \"case=1_single_image_small\", \"case.model=cnn6\"])\n",
    "          \n",
    "device = torch.device('cpu')\n",
    "torch.backends.cudnn.benchmark = cfg.case.impl.benchmark\n",
    "setup = dict(device=device, dtype=getattr(torch, cfg.case.impl.dtype))\n",
    "setup"
   ]
  },
  {
   "cell_type": "markdown",
   "id": "203c5fb1",
   "metadata": {},
   "source": [
    "### Modify config options here"
   ]
  },
  {
   "cell_type": "markdown",
   "id": "6e0764ef",
   "metadata": {},
   "source": [
    "You can use `.attribute` access to modify any of these configurations for the attack, or the case:"
   ]
  },
  {
   "cell_type": "code",
   "execution_count": 3,
   "id": "ac118ea0",
   "metadata": {},
   "outputs": [],
   "source": [
    "cfg.case.user.user_idx = 1\n",
    "\n",
    "cfg.case.user.num_data_points = 1 # The attack is designed for only one data point\n"
   ]
  },
  {
   "cell_type": "markdown",
   "id": "76f64389",
   "metadata": {},
   "source": [
    "### Instantiate all parties"
   ]
  },
  {
   "cell_type": "markdown",
   "id": "8db2272f",
   "metadata": {},
   "source": [
    "The following lines generate \"server, \"user\" and \"attacker\" objects and print an overview of their configurations."
   ]
  },
  {
   "cell_type": "code",
   "execution_count": 4,
   "id": "d3abd955",
   "metadata": {},
   "outputs": [
    {
     "name": "stdout",
     "output_type": "stream",
     "text": [
      "<class 'torch.jit._script.RecursiveScriptModule'>\n",
      "Files already downloaded and verified\n",
      "Model architecture cnn6 loaded with 154,266 parameters and 0 buffers.\n",
      "Overall this is a data ratio of      50:1 for target shape [1, 3, 32, 32] given that num_queries=1.\n",
      "User (of type UserSingleStep) with settings:\n",
      "    Number of data points: 1\n",
      "\n",
      "    Threat model:\n",
      "    User provides labels: True\n",
      "    User provides buffers: False\n",
      "    User provides number of data points: True\n",
      "\n",
      "    Data:\n",
      "    Dataset: CIFAR10\n",
      "    user: 1\n",
      "    \n",
      "        \n",
      "Server (of type HonestServer) with settings:\n",
      "    Threat model: Honest-but-curious\n",
      "    Number of planned queries: 1\n",
      "    Has external/public data: False\n",
      "\n",
      "    Model:\n",
      "        model specification: cnn6\n",
      "        model state: default\n",
      "        \n",
      "\n",
      "    Secrets: {}\n",
      "    \n",
      "Attacker (of type RecursiveAttacker) with settings:\n",
      "               inversion:\n",
      "                - step size: 0.01\n",
      "                - steps    : 0.01\n",
      "                \n"
     ]
    }
   ],
   "source": [
    "user, server, model, loss_fn = breaching.cases.construct_case(cfg.case, setup)\n",
    "torch.save(model.state_dict(), '/home/zx/Gitrepo/breaching/model_checkpoint/cnn6')\n",
    "attacker = breaching.attacks.prepare_attack(server.model, server.loss, cfg.attack, setup)\n",
    "breaching.utils.overview(server, user, attacker)"
   ]
  },
  {
   "cell_type": "markdown",
   "id": "548c0ad6",
   "metadata": {},
   "source": [
    "### Simulate an attacked FL protocol"
   ]
  },
  {
   "cell_type": "markdown",
   "id": "2058bcc2",
   "metadata": {},
   "source": [
    "This exchange is a simulation of a single query in a federated learning protocol. The server sends out a `server_payload` and the user computes an update based on their private local data. This user update is `shared_data` and contains, for example, the parameter gradient of the model in the simplest case. `true_user_data` is also returned by `.compute_local_updates`, but of course not forwarded to the server or attacker and only used for (our) analysis."
   ]
  },
  {
   "cell_type": "code",
   "execution_count": 5,
   "id": "b0dbd868",
   "metadata": {},
   "outputs": [
    {
     "name": "stdout",
     "output_type": "stream",
     "text": [
      "Computing user update on user 1 in model mode: eval.\n"
     ]
    }
   ],
   "source": [
    "server_payload = server.distribute_payload()\n",
    "shared_data, true_user_data = user.compute_local_updates(server_payload)"
   ]
  },
  {
   "cell_type": "code",
   "execution_count": 6,
   "id": "49c68628",
   "metadata": {},
   "outputs": [
    {
     "data": {
      "image/png": "[encoded data removed]",
      "text/plain": [
       "<Figure size 432x288 with 1 Axes>"
      ]
     },
     "metadata": {
      "needs_background": "light"
     },
     "output_type": "display_data"
    }
   ],
   "source": [
    "user.plot(true_user_data)"
   ]
  },
  {
   "cell_type": "markdown",
   "id": "17255c5a",
   "metadata": {},
   "source": [
    "### Reconstruct user data:"
   ]
  },
  {
   "cell_type": "markdown",
   "id": "82360c14",
   "metadata": {},
   "source": [
    "Now we launch the attack, reconstructing user data based on only the `server_payload` and the `shared_data`. "
   ]
  },
  {
   "cell_type": "code",
   "execution_count": 7,
   "id": "08acb319",
   "metadata": {},
   "outputs": [
    {
     "name": "stdout",
     "output_type": "stream",
     "text": [
      "{'db': {'name': None}, 'name': 'CIFAR10', 'modality': 'vision', 'task': 'classification', 'path': '/home/zx/data/cifar10', 'size': 50000, 'classes': 10, 'shape': [3, 32, 32], 'normalize': True, 'mean': [0.4914672374725342, 0.4822617471218109, 0.4467701315879822], 'std': [0.24703224003314972, 0.24348513782024384, 0.26158785820007324], 'augmentations_train': {'RandomCrop': [32, 4], 'RandomHorizontalFlip': 0.5}, 'augmentations_val': None, 'default_clients': 10, 'partition': 'balanced', 'examples_from_split': 'validation', 'batch_size': 128, 'caching': False}\n"
     ]
    },
    {
     "data": {
      "text/plain": [
       "[3, 32, 32]"
      ]
     },
     "execution_count": 7,
     "metadata": {},
     "output_type": "execute_result"
    }
   ],
   "source": [
    "# print(len(server_payload['parameters']))\n",
    "# server_payload.keys()\n",
    "print(server_payload['metadata']) \n",
    "server_payload['metadata']['shape']\n",
    "# print(shared_data['metadata'])\n",
    "# print(len(server_payload['metadata']))\n",
    "# shapes = [p.shape for p in server_payload['parameters']]\n",
    "# for layer in attacker.model_template.children():\n",
    "#     print(layer)\n",
    "# print(shapes)"
   ]
  },
  {
   "cell_type": "code",
   "execution_count": 13,
   "id": "bbd53348",
   "metadata": {},
   "outputs": [
    {
     "data": {
      "text/plain": [
       "3200"
      ]
     },
     "execution_count": 13,
     "metadata": {},
     "output_type": "execute_result"
    }
   ],
   "source": [
    "# print(len(server_payload['parameters']))\n",
    "# shared_data.keys()\n",
    "\n",
    "# shapes = [p.shape for p in server_payload['parameters']]\n",
    "# for layer in attacker.model_template.children():\n",
    "#     print(layer)\n",
    "# print(shapes)\n",
    "# params_list = list[server_payload['parameters']]\n",
    "type(server_payload['parameters'])\n",
    "server_payload['parameters'][-2].t().shape[0]"
   ]
  },
  {
   "cell_type": "code",
   "execution_count": 7,
   "id": "c9a32fd7",
   "metadata": {},
   "outputs": [
    {
     "name": "stdout",
     "output_type": "stream",
     "text": [
      "Linear(in_features=3200, out_features=10, bias=True)\n",
      "LeakyReLU(negative_slope=0.2)\n",
      "Flatten(start_dim=1, end_dim=-1)\n",
      "Conv2d(64, 128, kernel_size=(3, 3), stride=(1, 1), padding=(1, 1), bias=False)\n",
      "lstsq residual: [3.3337675e-15], rank: 3136 -> 3136, max/min singular value: 1.39e+00/2.61e-01\n",
      "LeakyReLU(negative_slope=0.2)\n",
      "Conv2d(36, 64, kernel_size=(3, 3), stride=(2, 2), padding=(1, 1), bias=False)\n",
      "lstsq residual: [2.5897465e-15], rank: 4356 -> 4356, max/min singular value: 1.26e+00/1.28e-02\n",
      "LeakyReLU(negative_slope=0.2)\n",
      "Conv2d(36, 36, kernel_size=(3, 3), stride=(1, 1), padding=(1, 1), bias=False)\n",
      "lstsq residual: [6.63683e-13], rank: 4356 -> 4356, max/min singular value: 1.26e+00/1.50e-02\n",
      "LeakyReLU(negative_slope=0.2)\n",
      "Conv2d(36, 36, kernel_size=(3, 3), stride=(1, 1), padding=(1, 1), bias=False)\n",
      "lstsq residual: [2.3603436e-10], rank: 4356 -> 4356, max/min singular value: 1.27e+00/5.87e-03\n",
      "LeakyReLU(negative_slope=0.2)\n",
      "Conv2d(12, 36, kernel_size=(3, 3), stride=(2, 2), padding=(1, 1), bias=False)\n",
      "lstsq residual: [1.8571731e-09], rank: 4332 -> 4332, max/min singular value: 1.32e+00/3.57e-04\n",
      "LeakyReLU(negative_slope=0.2)\n",
      "Conv2d(3, 12, kernel_size=(4, 4), stride=(2, 2), padding=(2, 2), bias=False)\n",
      "lstsq residual: [0.00603277], rank: 3888 -> 3888, max/min singular value: 1.29e+00/2.23e-02\n",
      "Sequential(\n",
      "  (layer0): Conv2d(3, 12, kernel_size=(4, 4), stride=(2, 2), padding=(2, 2), bias=False)\n",
      "  (act0): LeakyReLU(negative_slope=0.2)\n",
      "  (layer1): Conv2d(12, 36, kernel_size=(3, 3), stride=(2, 2), padding=(1, 1), bias=False)\n",
      "  (act1): LeakyReLU(negative_slope=0.2)\n",
      "  (layer2): Conv2d(36, 36, kernel_size=(3, 3), stride=(1, 1), padding=(1, 1), bias=False)\n",
      "  (act2): LeakyReLU(negative_slope=0.2)\n",
      "  (layer3): Conv2d(36, 36, kernel_size=(3, 3), stride=(1, 1), padding=(1, 1), bias=False)\n",
      "  (act3): LeakyReLU(negative_slope=0.2)\n",
      "  (layer4): Conv2d(36, 64, kernel_size=(3, 3), stride=(2, 2), padding=(1, 1), bias=False)\n",
      "  (act4): LeakyReLU(negative_slope=0.2)\n",
      "  (layer5): Conv2d(64, 128, kernel_size=(3, 3), stride=(1, 1), padding=(1, 1), bias=False)\n",
      "  (flatten): Flatten(start_dim=1, end_dim=-1)\n",
      "  (act5): LeakyReLU(negative_slope=0.2)\n",
      ")\n",
      "ConvolutionalNetwork(\n",
      "  (conv): Sequential(\n",
      "    (layer0): Conv2d(3, 12, kernel_size=(4, 4), stride=(2, 2), padding=(2, 2), bias=False)\n",
      "    (act0): LeakyReLU(negative_slope=0.2)\n",
      "    (layer1): Conv2d(12, 36, kernel_size=(3, 3), stride=(2, 2), padding=(1, 1), bias=False)\n",
      "    (act1): LeakyReLU(negative_slope=0.2)\n",
      "    (layer2): Conv2d(36, 36, kernel_size=(3, 3), stride=(1, 1), padding=(1, 1), bias=False)\n",
      "    (act2): LeakyReLU(negative_slope=0.2)\n",
      "    (layer3): Conv2d(36, 36, kernel_size=(3, 3), stride=(1, 1), padding=(1, 1), bias=False)\n",
      "    (act3): LeakyReLU(negative_slope=0.2)\n",
      "    (layer4): Conv2d(36, 64, kernel_size=(3, 3), stride=(2, 2), padding=(1, 1), bias=False)\n",
      "    (act4): LeakyReLU(negative_slope=0.2)\n",
      "    (layer5): Conv2d(64, 128, kernel_size=(3, 3), stride=(1, 1), padding=(1, 1), bias=False)\n",
      "    (flatten): Flatten(start_dim=1, end_dim=-1)\n",
      "    (act5): LeakyReLU(negative_slope=0.2)\n",
      "  )\n",
      "  (fc): Linear(in_features=3200, out_features=10, bias=True)\n",
      ")\n",
      "VisionContainer(\n",
      "  (model): ConvolutionalNetwork(\n",
      "    (conv): Sequential(\n",
      "      (layer0): Conv2d(3, 12, kernel_size=(4, 4), stride=(2, 2), padding=(2, 2), bias=False)\n",
      "      (act0): LeakyReLU(negative_slope=0.2)\n",
      "      (layer1): Conv2d(12, 36, kernel_size=(3, 3), stride=(2, 2), padding=(1, 1), bias=False)\n",
      "      (act1): LeakyReLU(negative_slope=0.2)\n",
      "      (layer2): Conv2d(36, 36, kernel_size=(3, 3), stride=(1, 1), padding=(1, 1), bias=False)\n",
      "      (act2): LeakyReLU(negative_slope=0.2)\n",
      "      (layer3): Conv2d(36, 36, kernel_size=(3, 3), stride=(1, 1), padding=(1, 1), bias=False)\n",
      "      (act3): LeakyReLU(negative_slope=0.2)\n",
      "      (layer4): Conv2d(36, 64, kernel_size=(3, 3), stride=(2, 2), padding=(1, 1), bias=False)\n",
      "      (act4): LeakyReLU(negative_slope=0.2)\n",
      "      (layer5): Conv2d(64, 128, kernel_size=(3, 3), stride=(1, 1), padding=(1, 1), bias=False)\n",
      "      (flatten): Flatten(start_dim=1, end_dim=-1)\n",
      "      (act5): LeakyReLU(negative_slope=0.2)\n",
      "    )\n",
      "    (fc): Linear(in_features=3200, out_features=10, bias=True)\n",
      "  )\n",
      ")\n"
     ]
    }
   ],
   "source": [
    "reconstructed_user_data, stats = attacker.reconstruct([server_payload], [shared_data], {}, dryrun=cfg.dryrun)"
   ]
  },
  {
   "cell_type": "markdown",
   "id": "9dc4943f",
   "metadata": {},
   "source": [
    "Next we'll evaluate metrics, comparing the `reconstructed_user_data` to the `true_user_data`."
   ]
  },
  {
   "cell_type": "code",
   "execution_count": 12,
   "id": "31f2685a",
   "metadata": {},
   "outputs": [
    {
     "name": "stderr",
     "output_type": "stream",
     "text": [
      "/home/zx/Gitrepo/breaching/breaching/analysis/metrics.py:24: UserWarning: To utilize wavelet SSIM, install pytorch wavelets from https://github.com/fbcotter/pytorch_wavelets.\n",
      "  warnings.warn(\n",
      "/home/zx/Gitrepo/breaching/breaching/analysis/metrics.py:143: UserWarning: To utilize registered PSNR, install kornia.\n",
      "  warnings.warn(\"To utilize registered PSNR, install kornia.\")\n"
     ]
    },
    {
     "name": "stdout",
     "output_type": "stream",
     "text": [
      "Files already downloaded and verified\n",
      "METRICS: | MSE: 0.0000 | PSNR: 45.11 | FMSE: 3.0056e-12 | LPIPS: 0.00|\n",
      " R-PSNR:  nan | IIP-pixel: 100.00% | SSIM: nan | max R-PSNR:  nan | max SSIM: nan | Label Acc: 100.00%\n"
     ]
    }
   ],
   "source": [
    "metrics = breaching.analysis.report(reconstructed_user_data, true_user_data, [server_payload], \n",
    "                                    server.model, order_batch=True, compute_full_iip=False, \n",
    "                                    cfg_case=cfg.case, setup=setup)"
   ]
  },
  {
   "cell_type": "markdown",
   "id": "a200797e",
   "metadata": {},
   "source": [
    "And finally, we also plot the reconstructed data:"
   ]
  },
  {
   "cell_type": "code",
   "execution_count": 9,
   "id": "631f4a84",
   "metadata": {},
   "outputs": [
    {
     "data": {
      "image/png": "[encoded data removed]",
      "text/plain": [
       "<Figure size 432x288 with 1 Axes>"
      ]
     },
     "metadata": {
      "needs_background": "light"
     },
     "output_type": "display_data"
    }
   ],
   "source": [
    "user.plot(reconstructed_user_data)\n",
    "\n",
    "torch.save(reconstructed_user_data['data'], '/home/zx/Gitrepo/breaching/out/gap_rec_cifar10_idx0.pt')"
   ]
  },
  {
   "cell_type": "markdown",
   "id": "0dcb085f",
   "metadata": {},
   "source": [
    "### Notes:\n",
    "* As analytic attack, this algorithm cannot recovery multiple data points\n",
    "* The implementation of this attack ports the original unwrapping of the convolution operations into massive linear operators, this is likely not a super scalable implementation for larger-scale experiments.\n",
    "* An interested insight from the R-GAP paper that is not visible in this experiment is how well the attack scales and is enabled by the rank of these operators, which naturally translates into the width of these neural networks and underpins why wide neural networks are so much more susceptible to these attacks."
   ]
  }
 ],
 "metadata": {
  "kernelspec": {
   "display_name": "Python 3.10.4 ('torch1.12')",
   "language": "python",
   "name": "python3"
  },
  "language_info": {
   "codemirror_mode": {
    "name": "ipython",
    "version": 3
   },
   "file_extension": ".py",
   "mimetype": "text/x-python",
   "name": "python",
   "nbconvert_exporter": "python",
   "pygments_lexer": "ipython3",
   "version": "3.10.4"
  },
  "vscode": {
   "interpreter": {
    "hash": "bfeda313749c94f9a4724a9422c2a2712f7aeac49b4f3a78e28ace08a3f3d094"
   }
  }
 },
 "nbformat": 4,
 "nbformat_minor": 5
}
